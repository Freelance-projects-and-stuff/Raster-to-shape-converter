{
 "cells": [
  {
   "cell_type": "code",
   "execution_count": 1,
   "metadata": {},
   "outputs": [],
   "source": [
    "import glob\n",
    "import os\n",
    "import geopandas as gpd\n",
    "import pandas as pd\n",
    "\n",
    "from source.coordinates import get_coordinates_df\n",
    "from source.mask import get_segmentation_mask_df, rock_formula\n",
    "\n",
    "\n",
    "def get_merged_gdf(coor_df, mask_df):\n",
    "    merged_df = pd.concat([coor_df[[\"gps_x\", \"gps_y\"]], mask_df[\"mask_value\"]], axis=1)\n",
    "    merged_df = merged_df[merged_df.mask_value == 1][[\"gps_x\", \"gps_y\"]]\n",
    "    data_gdf = gpd.GeoDataFrame(merged_df,\n",
    "                    geometry = gpd.points_from_xy(merged_df['gps_x'], merged_df['gps_y']))\n",
    "    return data_gdf"
   ]
  },
  {
   "cell_type": "code",
   "execution_count": 2,
   "metadata": {},
   "outputs": [
    {
     "name": "stdout",
     "output_type": "stream",
     "text": [
      "Processed image: C030159D\n",
      "Extracting coordinates...\n",
      "Done.\n",
      "Extracting masks...\n",
      "Done.\n",
      "Saving shape file...\n",
      "Done.\n",
      "Processed image: C030259D\n",
      "Extracting coordinates...\n",
      "Done.\n",
      "Extracting masks...\n",
      "Done.\n",
      "Saving shape file...\n",
      "Done.\n"
     ]
    }
   ],
   "source": [
    "data_dir = \"data/images\"\n",
    "save_dir = \"output/shape_files\"\n",
    "\n",
    "data_dir = os.path.abspath(data_dir)\n",
    "save_dir = os.path.abspath(save_dir)\n",
    "images_paths_list = sorted(glob.glob(os.path.join(data_dir, \"*.tif\")))\n",
    "os.makedirs(save_dir, exist_ok=True)\n",
    "\n",
    "# image_idx = 0\n",
    "# image_path = images_paths_list[image_idx]\n",
    "\n",
    "for image_path in images_paths_list:\n",
    "    image_name = image_path.split(\"\\\\\")[-1].split(\".\")[0]\n",
    "\n",
    "    print(f\"Processed image: {image_name}\")\n",
    "    print(\"Extracting coordinates...\")\n",
    "    coor_df = get_coordinates_df(image_path)\n",
    "    print(\"Done.\")\n",
    "    print(\"Extracting masks...\")\n",
    "    mask_df = get_segmentation_mask_df(image_path, rock_formula)\n",
    "    print(\"Done.\")\n",
    "    print(\"Saving shape file...\")\n",
    "    data_gdf = get_merged_gdf(coor_df, mask_df)\n",
    "    data_gdf.to_file(filename=os.path.join(save_dir, image_name + \".shp\"), driver='ESRI Shapefile')\n",
    "    print(\"Done.\")"
   ]
  },
  {
   "cell_type": "code",
   "execution_count": null,
   "metadata": {},
   "outputs": [],
   "source": []
  }
 ],
 "metadata": {
  "kernelspec": {
   "display_name": "Python 3.7.10 ('plane-hypex')",
   "language": "python",
   "name": "python3"
  },
  "language_info": {
   "codemirror_mode": {
    "name": "ipython",
    "version": 3
   },
   "file_extension": ".py",
   "mimetype": "text/x-python",
   "name": "python",
   "nbconvert_exporter": "python",
   "pygments_lexer": "ipython3",
   "version": "3.7.10"
  },
  "orig_nbformat": 4,
  "vscode": {
   "interpreter": {
    "hash": "21766497d08fea8f4cf9442c58baf9b91f4ef586138654d8d645407f008c3d7d"
   }
  }
 },
 "nbformat": 4,
 "nbformat_minor": 2
}
